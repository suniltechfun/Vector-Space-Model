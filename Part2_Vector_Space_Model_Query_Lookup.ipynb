{
 "cells": [
  {
   "cell_type": "markdown",
   "metadata": {},
   "source": [
    "# Part2: Vector-space based IR System\n",
    "## Query Lookup\n",
    "### Objectives: \n",
    "#### 1. Load the saved the python dictionaries as pickle files to be used for query optimization.\n",
    "#### 2. Make the query using query lookup() function."
   ]
  },
  {
   "cell_type": "code",
   "execution_count": 2,
   "metadata": {},
   "outputs": [],
   "source": [
    "# Import Required Libraries\n",
    "from collections import Counter\n",
    "import nltk\n",
    "import numpy as np\n",
    "import pickle\n",
    "from scipy import spatial\n",
    "import pickle"
   ]
  },
  {
   "cell_type": "code",
   "execution_count": 3,
   "metadata": {},
   "outputs": [],
   "source": [
    "# Read the pickle files \n",
    "with open('documents_dict.pkl', 'rb') as documents_dict_handle:\n",
    "    documents_dict = pickle.load(documents_dict_handle)\n",
    "    \n",
    "with open('tf_idf_vector.pkl', 'rb') as tf_idf_vector_handle:\n",
    "    tf_idf_vector = pickle.load(tf_idf_vector_handle)\n",
    "    \n",
    "with open('bag_of_words.pkl', 'rb') as bag_of_words_handle:\n",
    "    bag_of_words = pickle.load(bag_of_words_handle)\n",
    "    \n",
    "with open('documents_title_dict.pkl', 'rb') as documents_title_dict_handle:\n",
    "    documents_title_dict = pickle.load(documents_title_dict_handle)"
   ]
  },
  {
   "cell_type": "markdown",
   "metadata": {},
   "source": [
    "#### SMART Notation used\n",
    "#### lnc.ltc(ddd.qqq)\n",
    "#### ltc ==> Logarithmic tf + IDF + Cosine Normalization"
   ]
  },
  {
   "cell_type": "code",
   "execution_count": 4,
   "metadata": {},
   "outputs": [],
   "source": [
    "# Function to generate query vector\n",
    "def make_query_vector(documents_dict, bag_of_words, tokens):  \n",
    "    documents_count = len(documents_dict.keys())\n",
    "    all_tokens = list(bag_of_words.keys())\n",
    "\n",
    "    token_with_index = {}\n",
    "    for index, token in enumerate(all_tokens):\n",
    "        token_with_index[token] = index\n",
    "\n",
    "    query = np.zeros((len(all_tokens)))\n",
    "    query_counter = Counter(tokens)\n",
    "\n",
    "    # normalize\n",
    "    cnt = 0\n",
    "    for token in np.unique(tokens):\n",
    "        #Logarithmic tf \n",
    "        tf = 1 + np.log10(query_counter[token]+1)        \n",
    "        try:\n",
    "            df = bag_of_words[token]['df']\n",
    "        except:\n",
    "            df = 0\n",
    "        idf = np.log10((documents_count) / (df + 1))        \n",
    "        cnt += (tf * tf * idf * idf)        \n",
    "    cnt = np.sqrt(cnt)  \n",
    "    for token in np.unique(tokens):\n",
    "        tf = 1 + np.log10(query_counter[token]+1)\n",
    "        try:\n",
    "            df = bag_of_words[token]['df']\n",
    "        except:\n",
    "            df = 0\n",
    "        idf = np.log10((documents_count) / (df + 1))      \n",
    "        try:\n",
    "            # Cosine Normalization\n",
    "            query[token_with_index[token]] = (tf * idf) / cnt            \n",
    "        except:\n",
    "            pass\n",
    "    return query"
   ]
  },
  {
   "cell_type": "code",
   "execution_count": 20,
   "metadata": {},
   "outputs": [],
   "source": [
    "# Function for query lookup\n",
    "def query_lookup(query, documents_dict, tf_idf_vector, bag_of_words, documents_title_dict):\n",
    "        tokens = nltk.word_tokenize(query)\n",
    "\n",
    "        print(\"\\nQuery:\", query)\n",
    "\n",
    "        search_results = {}\n",
    "        query_vector = make_query_vector(documents_dict, bag_of_words, tokens)\n",
    "\n",
    "        for doc_id, doc_value in tf_idf_vector.items():\n",
    "            cosine_similarity = 1 - spatial.distance.cosine(query_vector, np.asarray(doc_value['tf_idf_vector']))\n",
    "            search_results[doc_id] = {\"score\": cosine_similarity, \"title\": documents_title_dict[doc_id]}\n",
    "        \n",
    "        # Get Top 10 documents\n",
    "        out = [value for key, value in\n",
    "               sorted(search_results.items(), key=lambda item: item[1]['score'], reverse=True)[:10]]\n",
    "        return out"
   ]
  },
  {
   "cell_type": "markdown",
   "metadata": {},
   "source": [
    "### Execute the query as required ( This requires python dictionaries which needs to be in memory\n",
    "### We load the saved pickle file."
   ]
  },
  {
   "cell_type": "markdown",
   "metadata": {},
   "source": [
    "#### Query 1"
   ]
  },
  {
   "cell_type": "code",
   "execution_count": 29,
   "metadata": {},
   "outputs": [
    {
     "name": "stdout",
     "output_type": "stream",
     "text": [
      "\n",
      "Query: Final Fantasy Legend III, originally released in Japan as , is a role-playing video game\n"
     ]
    },
    {
     "data": {
      "text/plain": [
       "[{'score': 0.014713003730583929, 'title': \"Wonder Boy III: The Dragon's Trap\"},\n",
       " {'score': 0.01356252380584011, 'title': 'Final Fantasy Legend II'},\n",
       " {'score': 0.013395957891806143, 'title': 'Tabula Rasa (video game)'},\n",
       " {'score': 0.013230702911939729, 'title': 'Hot Shots Golf (series)'},\n",
       " {'score': 0.01314483283893686, 'title': 'Neutopia'},\n",
       " {'score': 0.012952913274225875, 'title': 'Battles (band)'},\n",
       " {'score': 0.012724472117589869, 'title': 'Last Order: Final Fantasy VII'},\n",
       " {'score': 0.012722718754266893, 'title': 'Final Fantasy Legend III'},\n",
       " {'score': 0.01245510395024374,\n",
       "  'title': 'Ragnarok Online 2: The Gate of the World'},\n",
       " {'score': 0.01240167757489763, 'title': 'The Legend of Dragoon'}]"
      ]
     },
     "execution_count": 29,
     "metadata": {},
     "output_type": "execute_result"
    }
   ],
   "source": [
    "\n",
    "query ='Final Fantasy Legend III, originally released in Japan as , is a role-playing video game'\n",
    "query_lookup(query, documents_dict, tf_idf_vector, bag_of_words, documents_title_dict)"
   ]
  },
  {
   "cell_type": "markdown",
   "metadata": {},
   "source": [
    "#### Query 2"
   ]
  },
  {
   "cell_type": "code",
   "execution_count": 30,
   "metadata": {},
   "outputs": [
    {
     "name": "stdout",
     "output_type": "stream",
     "text": [
      "\n",
      "Query: Butyllithium is commercially available as solutions\n"
     ]
    },
    {
     "data": {
      "text/plain": [
       "[{'score': 0.009969559113528592, 'title': 'N-Butyllithium'},\n",
       " {'score': 0.009284767947575379, 'title': 'Euler–Bernoulli beam theory'},\n",
       " {'score': 0.008325833087772017, 'title': 'ICT 1301'},\n",
       " {'score': 0.00821838000934072, 'title': 'Fluoride therapy'},\n",
       " {'score': 0.007949716759227954, 'title': 'Dubai Metro'},\n",
       " {'score': 0.007897685227115203, 'title': 'StatSoft'},\n",
       " {'score': 0.007835736635082302, 'title': 'Clinical audit'},\n",
       " {'score': 0.007802578144195382, 'title': 'Marlin Model Golden 39A'},\n",
       " {'score': 0.007684068104029884, 'title': 'Augusta, Ontario'},\n",
       " {'score': 0.007660139658023368, 'title': 'Gemini Ganesan'}]"
      ]
     },
     "execution_count": 30,
     "metadata": {},
     "output_type": "execute_result"
    }
   ],
   "source": [
    "\n",
    "query ='Butyllithium is commercially available as solutions'\n",
    "query_lookup(query, documents_dict, tf_idf_vector, bag_of_words, documents_title_dict)"
   ]
  },
  {
   "cell_type": "markdown",
   "metadata": {},
   "source": [
    "#### Query 3"
   ]
  },
  {
   "cell_type": "code",
   "execution_count": 28,
   "metadata": {},
   "outputs": [
    {
     "name": "stdout",
     "output_type": "stream",
     "text": [
      "\n",
      "Query: In 2014, the RTA approved the recent proposal of extending the red line from Al Rashidiya station to Mirdif City Center\n"
     ]
    },
    {
     "data": {
      "text/plain": [
       "[{'score': 0.017683325711255082, 'title': 'Dubai Metro'},\n",
       " {'score': 0.01414932582494699, 'title': 'Angolan Civil War'},\n",
       " {'score': 0.01295386573528623, 'title': 'Vale of Glamorgan Line'},\n",
       " {'score': 0.012757267090577118, 'title': 'Barry Island railway station'},\n",
       " {'score': 0.012709483315089476, 'title': 'London and Greenwich Railway'},\n",
       " {'score': 0.012623781890072294, 'title': 'Tiverton Parkway railway station'},\n",
       " {'score': 0.012587999362503322, 'title': 'GWR 5700 Class'},\n",
       " {'score': 0.012551711386156517, 'title': 'Rail transport in Indonesia'},\n",
       " {'score': 0.012498544394775046, 'title': 'Michele Bachmann'},\n",
       " {'score': 0.01248763570965794, 'title': 'Baumholder'}]"
      ]
     },
     "execution_count": 28,
     "metadata": {},
     "output_type": "execute_result"
    }
   ],
   "source": [
    "query ='In 2014, the RTA approved the recent proposal of extending the red line from Al Rashidiya station to Mirdif City Center'\n",
    "query_lookup(query, documents_dict, tf_idf_vector, bag_of_words, documents_title_dict)"
   ]
  },
  {
   "cell_type": "markdown",
   "metadata": {},
   "source": [
    "#### Query 4"
   ]
  },
  {
   "cell_type": "code",
   "execution_count": 27,
   "metadata": {},
   "outputs": [
    {
     "name": "stdout",
     "output_type": "stream",
     "text": [
      "\n",
      "Query: Mount Kenya National Park was established in 1949 to protect Mount Kenya, the wildlife and surrounding environment\n"
     ]
    },
    {
     "data": {
      "text/plain": [
       "[{'score': 0.013040758618234727, 'title': 'Augusta, Ontario'},\n",
       " {'score': 0.012464897912184525, 'title': 'Wildlife of Costa Rica'},\n",
       " {'score': 0.012327917162507362, 'title': 'Mount Kenya National Park'},\n",
       " {'score': 0.011690337056265099, 'title': 'Rupununi'},\n",
       " {'score': 0.011623434074465644, 'title': 'Lake Nakuru'},\n",
       " {'score': 0.011386239915655127, 'title': 'Pilanesberg Game Reserve'},\n",
       " {'score': 0.011290887033561292, 'title': 'Ballygar'},\n",
       " {'score': 0.011265056149003527, 'title': 'Angolan Civil War'},\n",
       " {'score': 0.011161552577373168, 'title': 'Breakup of Yugoslavia'},\n",
       " {'score': 0.011119598591297963, 'title': 'Marine life'}]"
      ]
     },
     "execution_count": 27,
     "metadata": {},
     "output_type": "execute_result"
    }
   ],
   "source": [
    "query ='Mount Kenya National Park was established in 1949 to protect Mount Kenya, the wildlife and surrounding environment'\n",
    "query_lookup(query, documents_dict, tf_idf_vector, bag_of_words, documents_title_dict)"
   ]
  },
  {
   "cell_type": "markdown",
   "metadata": {},
   "source": [
    "#### Query 5"
   ]
  },
  {
   "cell_type": "code",
   "execution_count": 26,
   "metadata": {},
   "outputs": [
    {
     "name": "stdout",
     "output_type": "stream",
     "text": [
      "\n",
      "Query: The Eric Liddell Centre, a local charity, named after the 1924 Olympic 400m gold medalist athlete\n"
     ]
    },
    {
     "data": {
      "text/plain": [
       "[{'score': 0.013146725319662211, 'title': 'Morningside, Edinburgh'},\n",
       " {'score': 0.011378599602942963, 'title': 'Sisters of St. Joseph'},\n",
       " {'score': 0.011356502614479957, 'title': 'Augusta, Ontario'},\n",
       " {'score': 0.011350205461572394, 'title': 'Woburn Collegiate Institute'},\n",
       " {'score': 0.01126346462642236, 'title': 'Iowa Barnstormers'},\n",
       " {'score': 0.011135180202726191, 'title': 'Toofan (1989 film)'},\n",
       " {'score': 0.01113460414240175, 'title': 'Court Moor School'},\n",
       " {'score': 0.011118527807628897, 'title': 'Dizzy Mizz Lizzy'},\n",
       " {'score': 0.011101564340164294, 'title': 'List of Teen Titans characters'},\n",
       " {'score': 0.011064646180786286, 'title': 'Donie Bush'}]"
      ]
     },
     "execution_count": 26,
     "metadata": {},
     "output_type": "execute_result"
    }
   ],
   "source": [
    "query ='The Eric Liddell Centre, a local charity, named after the 1924 Olympic 400m gold medalist athlete'\n",
    "query_lookup(query, documents_dict, tf_idf_vector, bag_of_words, documents_title_dict)"
   ]
  },
  {
   "cell_type": "markdown",
   "metadata": {},
   "source": [
    "#### Query 6"
   ]
  },
  {
   "cell_type": "code",
   "execution_count": 31,
   "metadata": {},
   "outputs": [
    {
     "name": "stdout",
     "output_type": "stream",
     "text": [
      "\n",
      "Query: Francis Campbell Boileau Cadell RSA 12 April 1883 – 6 December 1937) was a Scottish Colourist painter, renowned for his depictions of the elegant New Town interiors of his native Edinburgh, and for his work on Iona\n"
     ]
    },
    {
     "data": {
      "text/plain": [
       "[{'score': 0.016990983402207838, 'title': 'Francis Cadell (artist)'},\n",
       " {'score': 0.014747844928845177, 'title': 'Sisters of St. Joseph'},\n",
       " {'score': 0.014507219676292094, 'title': 'P. C. Skovgaard'},\n",
       " {'score': 0.014433439467057663, 'title': 'Arthur Dove'},\n",
       " {'score': 0.014412506249721901, 'title': 'Harold Davidson'},\n",
       " {'score': 0.014321457924243997, 'title': 'Augusta, Ontario'},\n",
       " {'score': 0.014296134177969488, 'title': 'Ed Mirvish Theatre'},\n",
       " {'score': 0.013953297699574763, 'title': 'Angolan Civil War'},\n",
       " {'score': 0.013890122367402724, 'title': 'Brainpower'},\n",
       " {'score': 0.013849185262256536, 'title': 'Mary MacKillop'}]"
      ]
     },
     "execution_count": 31,
     "metadata": {},
     "output_type": "execute_result"
    }
   ],
   "source": [
    "query ='Francis Campbell Boileau Cadell RSA 12 April 1883 – 6 December 1937) was a Scottish Colourist painter, renowned for his depictions of the elegant New Town interiors of his native Edinburgh, and for his work on Iona'\n",
    "\n",
    "query_lookup(query, documents_dict, tf_idf_vector, bag_of_words, documents_title_dict)"
   ]
  },
  {
   "cell_type": "code",
   "execution_count": null,
   "metadata": {},
   "outputs": [],
   "source": []
  }
 ],
 "metadata": {
  "kernelspec": {
   "display_name": "Python 3",
   "language": "python",
   "name": "python3"
  },
  "language_info": {
   "codemirror_mode": {
    "name": "ipython",
    "version": 3
   },
   "file_extension": ".py",
   "mimetype": "text/x-python",
   "name": "python",
   "nbconvert_exporter": "python",
   "pygments_lexer": "ipython3",
   "version": "3.7.4"
  }
 },
 "nbformat": 4,
 "nbformat_minor": 2
}
